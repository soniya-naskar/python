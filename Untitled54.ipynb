{
 "cells": [
  {
   "cell_type": "code",
   "execution_count": null,
   "id": "e9898da5-8863-44e8-ab45-77f8de42304d",
   "metadata": {},
   "outputs": [],
   "source": [
    "1.Grid Search with Cross-Validation (Grid Search CV) is a technique used in machine learning to optimize the hyperparameters of a model\n",
    "The purpose of Grid Search CV is to find the combination of hyperparameters that results in the best performance of the model on the given data. \n",
    "This process involves systematically testing different combinations of hyperparameters and evaluating their performance using cross-validation."
   ]
  },
  {
   "cell_type": "code",
   "execution_count": null,
   "id": "be0502ba-b891-417a-85f2-fc43d1e13f10",
   "metadata": {},
   "outputs": [],
   "source": [
    "2.gridsearchcv searches for every possible combinations whereas randomized search cv has a parameter of n samples which takes n number of samples to search for the hyperparameter values\n",
    "randomized search cv is preferable as it has less complexity compared to grid search cv\n",
    "\n",
    "3.Data leakage, also known as information leakage, occurs when information from outside the training dataset is used to create the model\n",
    "The model might show artificially high accuracy or other performance metrics because it has \"cheated\" by using leaked information.\n",
    "\n",
    "4.by performing cross validation, feature engineering, leakage detection\n",
    "\n",
    "5.A confusion matrix is a table used to evaluate the performance of a classification model. It provides a comprehensive view of how well the models predictions match the actual class labels. \n",
    "The matrix displays the count of true positives, true negatives, false positives, and false negatives\n",
    "\n",
    "6.Precision measures the correctness of positive predictions and is crucial when the cost of false positives is high.\n",
    "Recall measures the models ability to capture all positive instances and is crucial when the cost of false negatives is high.\n",
    "\n",
    "7.False Positives (Type I Error):\n",
    "Interpretation: The model predicted a positive class when the actual class was negative.\n",
    "Impact: These errors can be problematic, especially in contexts like spam detection (marking a legitimate email as spam) or medical diagnosis (diagnosing a healthy person as sick).\n",
    "False Negatives (Type II Error):\n",
    "Interpretation: The model predicted a negative class when the actual class was positive.\n",
    "Impact: These errors are critical in scenarios such as disease screening (missing a disease diagnosis) or fraud detection (missing fraudulent transactions).\n",
    "\n",
    "8.Accuracy: \n",
    "Accuracy= TP+TN/TP+FP+TN+FN \n",
    "Interpretation: The proportion of total predictions that were correct.\n",
    "Precision (Positive Predictive Value):\n",
    "Formula: \n",
    "Precision= TP/FP+TP\n",
    "Interpretation: The proportion of positive predictions that are actually correct."
   ]
  }
 ],
 "metadata": {
  "kernelspec": {
   "display_name": "Python 3 (ipykernel)",
   "language": "python",
   "name": "python3"
  },
  "language_info": {
   "codemirror_mode": {
    "name": "ipython",
    "version": 3
   },
   "file_extension": ".py",
   "mimetype": "text/x-python",
   "name": "python",
   "nbconvert_exporter": "python",
   "pygments_lexer": "ipython3",
   "version": "3.10.8"
  }
 },
 "nbformat": 4,
 "nbformat_minor": 5
}
