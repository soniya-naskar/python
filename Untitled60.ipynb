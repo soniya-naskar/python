{
 "cells": [
  {
   "cell_type": "code",
   "execution_count": null,
   "id": "4cdfa030-198c-46f4-b33d-ea94780f6b1b",
   "metadata": {},
   "outputs": [],
   "source": [
    "#quest 1\n",
    "A Decision Tree Classifier is a supervised learning algorithm used primarily for classification tasks. \n",
    "It works by splitting the dataset into subsets based on the value of input features, leading to a tree-like structure where each node represents a decision based on a feature, and each branch represents the outcome of that decision.\n",
    "\n",
    "#quest 2 \n",
    "Decision trees lie upon two fundamental metrics: entropy and Gini impurity. \n",
    "These metrics measure the impurity or disorder within a dataset and are pivotal in determining the optimal feature for splitting the data.\n",
    "Entropy: Entropy, denoted by H(D) for a dataset D, measures its impurity or disorder. In the context of decision trees, entropy represents the uncertainty associated with the class labels of the data points. \n",
    "Information Gain: Information gain is a metric used to determine the effectiveness of a feature in reducing entropy. \n",
    "It quantifies the reduction in uncertainty (entropy) achieved by splitting the data based on a specific feature\n",
    "Gini Impurity: Gini impurity, often used in algorithms like CART (Classification and Regression Trees), measures the probability of misclassifying a randomly chosen element if it were randomly labeled\n",
    "\n",
    "#quest 3\n",
    "In a binary classification problem, a decision tree classifier splits the dataset into subsets that are increasingly homogeneous with respect to the two classes. \n",
    "By recursively applying this process, the tree structure emerges, where each leaf node corresponds to a predicted class, and new instances can be classified by following the path from the root to the appropriate leaf node.\n",
    "\n",
    "#quest 4\n",
    "\n",
    "The geometric intuition behind decision tree classification involves visualizing how the decision tree partitions the feature space into distinct regions, each corresponding to a specific class label. \n",
    "This approach can help clarify how the tree makes decisions and predictions based on the input features.\n",
    "\n",
    "#quest 5\n",
    "\n",
    "A confusion matrix is a table used to evaluate the performance of a classification model, particularly in binary classification, although it can be extended to multiclass classification as well. \n",
    "It compares the predicted class labels with the actual class labels, allowing you to visualize and quantify the performance of the model.\n",
    "\n",
    "#quest 6\n",
    "Precision measures the proportion of correct positive predictions out of all positive predictions made by the model:\n",
    "Precision= TP/FP+TP\n",
    "recall is calculated as tp/tp+fn \n",
    "f1 scores is calculated as 2*(precision*recall)/(precision+recall)\n",
    "\n",
    "#quest 7\n",
    "Choosing the right evaluation metric is a critical step in developing and deploying a classification model. \n",
    "The metric should reflect the specific goals and constraints of the problem domain, account for the characteristics of the data, and consider operational and stakeholder requirements. \n",
    "By carefully selecting the appropriate metric, you can ensure that the models performance is aligned with the real-world needs and that you make informed, effective decisions based on the models predictions.\n",
    "\n",
    "#quest 8\n",
    "Imagine developing a machine learning model for email spam detection. The goal is to classify incoming emails as either \"Spam\" (positive class) or \"Not Spam\" (negative class).\n",
    "In this scenario, precision is the most important metric because it measures the accuracy of the positive (spam) predictions\n",
    "True Positives (TP): The number of emails correctly identified as spam.\n",
    "False Positives (FP): The number of legitimate (not spam) emails incorrectly identified as spam.\n",
    "\n",
    "#quest 9\n",
    "Imagine developing a machine learning model to diagnose a life-threatening disease, such as cancer. The goal is to classify \n",
    "patients based on their test results as either \"Positive\" (the patient has the disease) or \"Negative\" (the patient does not have the disease).\n",
    "In this scenario, recall is the most important metric because it measures the ability of the model to correctly identify\n",
    "all actual positive cases, i.e., patients who truly have the disease\n",
    "\n"
   ]
  }
 ],
 "metadata": {
  "kernelspec": {
   "display_name": "Python 3 (ipykernel)",
   "language": "python",
   "name": "python3"
  },
  "language_info": {
   "codemirror_mode": {
    "name": "ipython",
    "version": 3
   },
   "file_extension": ".py",
   "mimetype": "text/x-python",
   "name": "python",
   "nbconvert_exporter": "python",
   "pygments_lexer": "ipython3",
   "version": "3.10.8"
  }
 },
 "nbformat": 4,
 "nbformat_minor": 5
}
