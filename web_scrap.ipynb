{
 "cells": [
  {
   "cell_type": "code",
   "execution_count": null,
   "id": "666ac0f1-7611-460d-8e4c-dc4421c5398e",
   "metadata": {},
   "outputs": [],
   "source": [
    "#question 1\n",
    "Web scraping is a method to extract large amount of data from websites or any platform which is generally in unstructured html format\n",
    "web scraping is used to extract specific data required by converting the unstructured html format into structured data format\n",
    "Used in analysis process, digital marketing and price monitoring "
   ]
  },
  {
   "cell_type": "code",
   "execution_count": null,
   "id": "a4945010-3058-409a-9c8f-a92a92a4d832",
   "metadata": {},
   "outputs": [],
   "source": [
    "#question 2\n",
    "there are many ways to perform web scraping to get data from websites. \n",
    "These include using online services, special APIs, or even creating code for web scraping from scratch.HTML Parsing ,DOM Parsing etc"
   ]
  },
  {
   "cell_type": "code",
   "execution_count": null,
   "id": "73d39196-08d2-4598-b939-901a77bb411d",
   "metadata": {},
   "outputs": [],
   "source": [
    "# question 3\n",
    "Beautiful Soup is a Python package for parsing HTML and XML documents\n",
    "It is used to beautify the html code and transform it form complex raw code into tree of python objects ,it modifies into parse tree whic helps in finding elements by id and makes web scraping easier"
   ]
  },
  {
   "cell_type": "code",
   "execution_count": null,
   "id": "b4e02f1d-7b46-4a9f-a371-c384eb155d44",
   "metadata": {},
   "outputs": [],
   "source": [
    "# question 4\n",
    "Flask is a lightweight framework to build websites. We will use this to parse our collected data and display it as HTML in a new HTML file. The requests module allows us to send http requests to the website we want to scrape. The first line imports the Flask class and the render_template method from the flask library"
   ]
  },
  {
   "cell_type": "code",
   "execution_count": null,
   "id": "86bf4089-a266-47c5-a9d0-95184d4cd2b6",
   "metadata": {},
   "outputs": [],
   "source": [
    "#question 5\n",
    "Elatic Beanstalk service is used in this project\n",
    "1.Amazon EC2 (Elastic Compute Cloud)\n",
    "EC2 is a cloud platform provided by Amazon that offers secure, and resizable compute capacity.\n",
    "2.Amazon RDS (Relational Database Services)\n",
    "Amazon Relational Database Service (Amazon RDS) makes database configuration, management, and scaling easy in the cloud.\n",
    "3.Amazon S3 (Simple Storage Service)\n",
    "Amazon S3, at its core, facilitates object storage, providing leading scalability, data availability, security, and performance"
   ]
  }
 ],
 "metadata": {
  "kernelspec": {
   "display_name": "Python 3 (ipykernel)",
   "language": "python",
   "name": "python3"
  },
  "language_info": {
   "codemirror_mode": {
    "name": "ipython",
    "version": 3
   },
   "file_extension": ".py",
   "mimetype": "text/x-python",
   "name": "python",
   "nbconvert_exporter": "python",
   "pygments_lexer": "ipython3",
   "version": "3.10.8"
  }
 },
 "nbformat": 4,
 "nbformat_minor": 5
}
