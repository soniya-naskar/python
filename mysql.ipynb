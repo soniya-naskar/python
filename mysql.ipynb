{
 "cells": [
  {
   "cell_type": "code",
   "execution_count": 1,
   "id": "655e82e7-6cd7-4986-87ef-8dc502475417",
   "metadata": {},
   "outputs": [],
   "source": [
    "# question-1. database is an organization of storing collected data in a structured way on computer\n",
    "# SQL databases are relational, and NoSQL databases are non-relational. \n",
    "# SQL databases use structured query language (SQL) and have a predefined schema. \n",
    "# NoSQL databases have dynamic schemas for unstructured data. \n",
    "# SQL databases are vertically scalable, while NoSQL databases are horizontally scalable"
   ]
  },
  {
   "cell_type": "code",
   "execution_count": 2,
   "id": "2f023340-7784-44b4-8465-cde4c78b3717",
   "metadata": {},
   "outputs": [],
   "source": [
    "# question-2. Data Definition Language (DDL) is a subset of SQL. It is a language for describing data and its relationships in a database. You can generate DDL in a script for database objects to: Keep a snapshot of the database structure."
   ]
  },
  {
   "cell_type": "code",
   "execution_count": 22,
   "id": "d1fd0c2e-bb84-47cf-9d5b-427247e2ce8d",
   "metadata": {},
   "outputs": [],
   "source": [
    "# CREATE is used to create a table in database to store data\n",
    "# SQL> CREATE TABLE STUDENTS (  \n",
    "#ID INT ,                            \n",
    "#NAME VARCHAR (20) NOT NULL,  \n",
    "#AGE INT ,                         \n",
    "#ADDRESS CHAR (25),  \n",
    "#PRIMARY KEY (ID)  \n",
    "#); "
   ]
  },
  {
   "cell_type": "code",
   "execution_count": 23,
   "id": "ac6af3d8-342a-4e13-b088-3c95ffb470bd",
   "metadata": {},
   "outputs": [],
   "source": [
    "# The DROP TABLE statement is used to drop an existing table in a database.\n",
    "# DROP TABLE table_name;\n",
    "# The TRUNCATE TABLE statement is used to delete the data inside a table, but not the table itself.\n",
    "# TRUNCATE TABLE table_name;\n",
    "# The ALTER TABLE statement is also used to add and drop various constraints on an existing table.\n",
    "# ALTER TABLE Customers\n",
    "# ADD Email varchar(255);"
   ]
  },
  {
   "cell_type": "code",
   "execution_count": null,
   "id": "9d7a2426-8d17-46bb-97cd-1cc7df0d3b28",
   "metadata": {},
   "outputs": [],
   "source": [
    "# question 3. DML is an abbreviation of Data Manipulation Language. The DML in DBMS is responsible for performing CRUD (Create Read Update and Delete) operations on the data of the database table. \n",
    "INSERT Command –This command is used to enter the information or values into a row.\n",
    "INSERT INTO students ('stu_id' int, 'stu_name' varchar(20), 'city' varchar(20))\n",
    "\n",
    "VALUES ('1', 'Nirmit', 'Gorakhpur'); \n",
    "UPDATE Command –This command is used to alter existing table records\n",
    "UPDATE students\n",
    "\n",
    "SET due_fees = 20000\n",
    "\n",
    "WHERE stu_name = 'Mini'; \n",
    "DELETE Command – It deletes all archives from a table. This command is used to erase some or all of the previous table’s records\n",
    "DELETE FROM students\n",
    "\n",
    "WHERE stu_id = '001'; "
   ]
  },
  {
   "cell_type": "code",
   "execution_count": null,
   "id": "c45d2cf4-b437-4bd8-962e-aaf411fe86b4",
   "metadata": {},
   "outputs": [],
   "source": [
    "# question 4\n",
    "Query languages, often known as DQLs or Data Query Languages, are computer languages that are used to make various queries in information systems and databases. \n",
    "SELECT Command:The most utilized SQL statement is select. Data from a database can be retrieved or fetched using the SELECT Statement in SQL\n",
    "SELECT <column-list>FROM<table-name>;"
   ]
  },
  {
   "cell_type": "code",
   "execution_count": null,
   "id": "aba02f39-d469-4a09-bbbe-f99a81831cd8",
   "metadata": {},
   "outputs": [],
   "source": [
    "# question 5\n",
    "A primary key is used to ensure data in the specific column is unique.\n",
    "A foreign key is a column or group of columns in a relational database table that provides a link between data in two tables."
   ]
  },
  {
   "cell_type": "code",
   "execution_count": null,
   "id": "ec5f8c6e-4250-4326-8e10-b7ec1aae6f78",
   "metadata": {},
   "outputs": [],
   "source": [
    "# question 6\n",
    "# Importing module pip install mysql-connector-python\n",
    "import mysql.connector\n",
    "\n",
    "# Creating connection object\n",
    "mydb = mysql.connector.connect(\n",
    "\thost = \"localhost\",\n",
    "\tuser = \"yourusername\",\n",
    "\tpassword = \"your_password\"\n",
    ")\n",
    "\n",
    "print(mydb)\n",
    "A cursor is an object which helps to execute the query and fetch the records from the database. \n",
    "The cursor plays a very important role in executing the query. "
   ]
  },
  {
   "cell_type": "code",
   "execution_count": null,
   "id": "09a09a71-e01e-42e2-be25-613578a18d31",
   "metadata": {},
   "outputs": [],
   "source": [
    "# question 7\n",
    "FROM/JOIN\n",
    "WHERE\n",
    "GROUP BY\n",
    "HAVING\n",
    "SELECT\n",
    "ORDER BY\n",
    "LIMIT/OFFSET."
   ]
  }
 ],
 "metadata": {
  "kernelspec": {
   "display_name": "Python 3 (ipykernel)",
   "language": "python",
   "name": "python3"
  },
  "language_info": {
   "codemirror_mode": {
    "name": "ipython",
    "version": 3
   },
   "file_extension": ".py",
   "mimetype": "text/x-python",
   "name": "python",
   "nbconvert_exporter": "python",
   "pygments_lexer": "ipython3",
   "version": "3.10.8"
  }
 },
 "nbformat": 4,
 "nbformat_minor": 5
}
