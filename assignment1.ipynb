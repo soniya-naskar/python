{
 "cells": [
  {
   "cell_type": "code",
   "execution_count": 6,
   "id": "fe017751-4722-46a9-bfe0-a51786c23679",
   "metadata": {},
   "outputs": [
    {
     "data": {
      "text/plain": [
       "str"
      ]
     },
     "execution_count": 6,
     "metadata": {},
     "output_type": "execute_result"
    }
   ],
   "source": [
    "## question 1.i)\n",
    "a =\"soniya naskar\"\n",
    "type(a)"
   ]
  },
  {
   "cell_type": "code",
   "execution_count": 7,
   "id": "4038e93a-1e4e-43fb-81e8-4dbe60f8400d",
   "metadata": {},
   "outputs": [
    {
     "data": {
      "text/plain": [
       "list"
      ]
     },
     "execution_count": 7,
     "metadata": {},
     "output_type": "execute_result"
    }
   ],
   "source": [
    "## 1.ii)\n",
    "l =[1,2,3,'a','apple',12.34]\n",
    "type(l)"
   ]
  },
  {
   "cell_type": "code",
   "execution_count": 4,
   "id": "b3b88228-4294-4de2-820f-168f6e9d5c55",
   "metadata": {},
   "outputs": [
    {
     "data": {
      "text/plain": [
       "float"
      ]
     },
     "execution_count": 4,
     "metadata": {},
     "output_type": "execute_result"
    }
   ],
   "source": [
    "##1.iii)\n",
    "c=13.45\n",
    "type(c)"
   ]
  },
  {
   "cell_type": "code",
   "execution_count": 8,
   "id": "0aa9d10a-93fd-4b2e-a78d-966acbf179f7",
   "metadata": {},
   "outputs": [
    {
     "data": {
      "text/plain": [
       "'soniya naskar'"
      ]
     },
     "execution_count": 8,
     "metadata": {},
     "output_type": "execute_result"
    }
   ],
   "source": [
    "a"
   ]
  },
  {
   "cell_type": "code",
   "execution_count": 9,
   "id": "2072f569-03e9-4688-a94d-f312b5ce11ae",
   "metadata": {},
   "outputs": [
    {
     "data": {
      "text/plain": [
       "[1, 2, 3, 'a', 'apple', 12.34]"
      ]
     },
     "execution_count": 9,
     "metadata": {},
     "output_type": "execute_result"
    }
   ],
   "source": [
    "l"
   ]
  },
  {
   "cell_type": "code",
   "execution_count": 10,
   "id": "c837edc6-423d-4356-847a-53246371621e",
   "metadata": {},
   "outputs": [
    {
     "data": {
      "text/plain": [
       "13.45"
      ]
     },
     "execution_count": 10,
     "metadata": {},
     "output_type": "execute_result"
    }
   ],
   "source": [
    "c"
   ]
  },
  {
   "cell_type": "code",
   "execution_count": 11,
   "id": "ccf1e33f-7bfc-41bc-bbdb-df94845d8164",
   "metadata": {},
   "outputs": [
    {
     "data": {
      "text/plain": [
       "tuple"
      ]
     },
     "execution_count": 11,
     "metadata": {},
     "output_type": "execute_result"
    }
   ],
   "source": [
    "##1.iv)\n",
    "t=(1,2,5,'b','soniya',45.6)\n",
    "type(t)"
   ]
  },
  {
   "cell_type": "code",
   "execution_count": 12,
   "id": "4492a16c-4c80-4bb3-845f-6445ed7dd339",
   "metadata": {},
   "outputs": [
    {
     "data": {
      "text/plain": [
       "(1, 2, 5, 'b', 'soniya', 45.6)"
      ]
     },
     "execution_count": 12,
     "metadata": {},
     "output_type": "execute_result"
    }
   ],
   "source": [
    "t"
   ]
  },
  {
   "cell_type": "code",
   "execution_count": 13,
   "id": "3555aae7-2cc2-48d7-a2f4-15ca421fde48",
   "metadata": {},
   "outputs": [
    {
     "data": {
      "text/plain": [
       "str"
      ]
     },
     "execution_count": 13,
     "metadata": {},
     "output_type": "execute_result"
    }
   ],
   "source": [
    "##question 2.i)\n",
    "var1=''\n",
    "type(var1)"
   ]
  },
  {
   "cell_type": "code",
   "execution_count": 15,
   "id": "d85b808e-43f7-4695-b402-23bd6706b687",
   "metadata": {},
   "outputs": [
    {
     "data": {
      "text/plain": [
       "str"
      ]
     },
     "execution_count": 15,
     "metadata": {},
     "output_type": "execute_result"
    }
   ],
   "source": [
    "##2.ii)\n",
    "var2='[DS , ML , Python]'\n",
    "type(var2)"
   ]
  },
  {
   "cell_type": "code",
   "execution_count": 17,
   "id": "97b0a90b-f435-4684-8486-ddf725389811",
   "metadata": {},
   "outputs": [
    {
     "data": {
      "text/plain": [
       "list"
      ]
     },
     "execution_count": 17,
     "metadata": {},
     "output_type": "execute_result"
    }
   ],
   "source": [
    "##2.iii)\n",
    "var3 = [ 'DS' , 'ML' , 'Python' ]\n",
    "type(var3)"
   ]
  },
  {
   "cell_type": "code",
   "execution_count": 18,
   "id": "aa18cdfc-3905-4b61-a0f5-35ab375da206",
   "metadata": {},
   "outputs": [
    {
     "data": {
      "text/plain": [
       "int"
      ]
     },
     "execution_count": 18,
     "metadata": {},
     "output_type": "execute_result"
    }
   ],
   "source": [
    "##2.iv)\n",
    "var4 = 1\n",
    "type(var4)"
   ]
  },
  {
   "cell_type": "code",
   "execution_count": 25,
   "id": "f67305c4-cd6e-4fb8-b260-bccad7913790",
   "metadata": {},
   "outputs": [
    {
     "data": {
      "text/plain": [
       "float"
      ]
     },
     "execution_count": 25,
     "metadata": {},
     "output_type": "execute_result"
    }
   ],
   "source": [
    "### question 3.i) - '/' it is a division operator which returns float values,it converts the result into float. e.g-\n",
    "\n",
    "d=25/5\n",
    "type(d)"
   ]
  },
  {
   "cell_type": "code",
   "execution_count": 26,
   "id": "1dd9bfc3-8772-4009-9718-2cd7e42f51a2",
   "metadata": {},
   "outputs": [
    {
     "data": {
      "text/plain": [
       "5.0"
      ]
     },
     "execution_count": 26,
     "metadata": {},
     "output_type": "execute_result"
    }
   ],
   "source": [
    "d"
   ]
  },
  {
   "cell_type": "code",
   "execution_count": 27,
   "id": "c880cd8c-8689-4062-aebd-78644a599dbf",
   "metadata": {},
   "outputs": [
    {
     "data": {
      "text/plain": [
       "2"
      ]
     },
     "execution_count": 27,
     "metadata": {},
     "output_type": "execute_result"
    }
   ],
   "source": [
    "## 3.ii) - '%' it is a modulo operator which returns the remainder. e.g-\n",
    "d=6%4\n",
    "d"
   ]
  },
  {
   "cell_type": "code",
   "execution_count": 29,
   "id": "5919e9ce-1a2c-4cd1-bff5-158245f41480",
   "metadata": {},
   "outputs": [
    {
     "data": {
      "text/plain": [
       "5"
      ]
     },
     "execution_count": 29,
     "metadata": {},
     "output_type": "execute_result"
    }
   ],
   "source": [
    "## 3.iii) - '//' it is a divisional operator which returns the integer value, the result is in int datatype. e.g-\n",
    "d=25//5\n",
    "d"
   ]
  },
  {
   "cell_type": "code",
   "execution_count": 30,
   "id": "798c9a61-1ab4-4ce1-8024-bfc96332fddd",
   "metadata": {},
   "outputs": [
    {
     "data": {
      "text/plain": [
       "int"
      ]
     },
     "execution_count": 30,
     "metadata": {},
     "output_type": "execute_result"
    }
   ],
   "source": [
    "type(d)"
   ]
  },
  {
   "cell_type": "code",
   "execution_count": 32,
   "id": "437c4f7b-10cc-4242-9746-6aa82dbb3ae0",
   "metadata": {},
   "outputs": [
    {
     "data": {
      "text/plain": [
       "16"
      ]
     },
     "execution_count": 32,
     "metadata": {},
     "output_type": "execute_result"
    }
   ],
   "source": [
    "## 3.iv) -'**' it returns the square of a value. e.g-\n",
    "4**2"
   ]
  },
  {
   "cell_type": "code",
   "execution_count": 33,
   "id": "165ea7dc-fb22-42c8-a0b4-1521cd8f8dc5",
   "metadata": {},
   "outputs": [
    {
     "data": {
      "text/plain": [
       "10"
      ]
     },
     "execution_count": 33,
     "metadata": {},
     "output_type": "execute_result"
    }
   ],
   "source": [
    "## question 4\n",
    "l1=[1,2,3,4,'abc',12.45,56.7,[2,5,6],('xyz',1,2),{1,2,3}]\n",
    "len(l1)"
   ]
  },
  {
   "cell_type": "code",
   "execution_count": 42,
   "id": "dcc9f203-b0f3-41a8-b88b-079bd8c52c4e",
   "metadata": {},
   "outputs": [
    {
     "name": "stdout",
     "output_type": "stream",
     "text": [
      "1 <class 'int'>\n",
      "2 <class 'int'>\n",
      "3 <class 'int'>\n",
      "4 <class 'int'>\n",
      "abc <class 'str'>\n",
      "12.45 <class 'float'>\n",
      "56.7 <class 'float'>\n",
      "[2, 5, 6] <class 'list'>\n",
      "('xyz', 1, 2) <class 'tuple'>\n",
      "{1, 2, 3} <class 'set'>\n"
     ]
    }
   ],
   "source": [
    "\n",
    "for i in l1:\n",
    "    print(i,type(i))  "
   ]
  },
  {
   "cell_type": "code",
   "execution_count": 45,
   "id": "e697dbe0-a43c-4ed0-b0af-791af47df9cc",
   "metadata": {},
   "outputs": [
    {
     "name": "stdout",
     "output_type": "stream",
     "text": [
      "1 - the number is not divisible\n",
      "2 - the number is not divisible\n",
      "3 - the number is divisible\n",
      "4 - the number is not divisible\n",
      "5 - the number is not divisible\n",
      "6 - the number is divisible\n",
      "7 - the number is not divisible\n",
      "8 - the number is not divisible\n",
      "9 - the number is divisible\n",
      "10 - the number is not divisible\n",
      "11 - the number is not divisible\n",
      "12 - the number is divisible\n",
      "13 - the number is not divisible\n",
      "14 - the number is not divisible\n",
      "15 - the number is divisible\n",
      "16 - the number is not divisible\n",
      "17 - the number is not divisible\n",
      "18 - the number is divisible\n",
      "19 - the number is not divisible\n",
      "20 - the number is not divisible\n",
      "21 - the number is divisible\n",
      "22 - the number is not divisible\n",
      "23 - the number is not divisible\n",
      "24 - the number is divisible\n",
      "25 - the number is not divisible\n"
     ]
    }
   ],
   "source": [
    "## question 6)\n",
    "l2=[1,2,3,4,5,6,7,8,9,10,11,12,13,14,15,16,17,18,19,20,21,22,23,24,25]\n",
    "for i in l2:\n",
    "    if i % 3 == 0:\n",
    "        print(i,'-' ,\"the number is divisible\")\n",
    "    else:\n",
    "        print(i, '-', \"the number is not divisible\")\n",
    "        \n",
    "        "
   ]
  },
  {
   "cell_type": "code",
   "execution_count": 46,
   "id": "9e6fe429-df34-4281-a180-2ddca715f07d",
   "metadata": {},
   "outputs": [
    {
     "data": {
      "text/plain": [
       "[1, 3, 4, 5, 8, 10]"
      ]
     },
     "execution_count": 46,
     "metadata": {},
     "output_type": "execute_result"
    }
   ],
   "source": [
    "## question 7- mutable are those whose value can be changed at that particular index without changing the object \n",
    "l3=[1,3,4,5,9,10]\n",
    "l3[4]=8\n",
    "l3  ## lists are mutable objects which allows to change some values without affecting the whole object"
   ]
  },
  {
   "cell_type": "code",
   "execution_count": 47,
   "id": "e12f157a-d42e-448e-a77c-446cef1a2b2f",
   "metadata": {},
   "outputs": [
    {
     "ename": "TypeError",
     "evalue": "'str' object does not support item assignment",
     "output_type": "error",
     "traceback": [
      "\u001b[0;31m---------------------------------------------------------------------------\u001b[0m",
      "\u001b[0;31mTypeError\u001b[0m                                 Traceback (most recent call last)",
      "Cell \u001b[0;32mIn[47], line 3\u001b[0m\n\u001b[1;32m      1\u001b[0m \u001b[38;5;66;03m## immutable objects are those objects which do not allow to change its values, if changed it will change the whole object creating a new object\u001b[39;00m\n\u001b[1;32m      2\u001b[0m s\u001b[38;5;241m=\u001b[39m\u001b[38;5;124m\"\u001b[39m\u001b[38;5;124msoniyanaskar\u001b[39m\u001b[38;5;124m\"\u001b[39m\n\u001b[0;32m----> 3\u001b[0m \u001b[43ms\u001b[49m\u001b[43m[\u001b[49m\u001b[38;5;241;43m2\u001b[39;49m\u001b[43m]\u001b[49m\u001b[38;5;241m=\u001b[39m\u001b[38;5;124m'\u001b[39m\u001b[38;5;124mm\u001b[39m\u001b[38;5;124m'\u001b[39m\n\u001b[1;32m      4\u001b[0m s\n",
      "\u001b[0;31mTypeError\u001b[0m: 'str' object does not support item assignment"
     ]
    }
   ],
   "source": [
    "## immutable objects are those objects which do not allow to change its values, if changed it will change the whole object creating a new object\n",
    "s=\"soniyanaskar\"\n",
    "s[2]='m'\n",
    "s  ## string throws an error as it is an immutab"
   ]
  },
  {
   "cell_type": "code",
   "execution_count": null,
   "id": "6f77586f-6786-4535-8af2-eb4994b2698b",
   "metadata": {},
   "outputs": [],
   "source": []
  }
 ],
 "metadata": {
  "kernelspec": {
   "display_name": "Python 3 (ipykernel)",
   "language": "python",
   "name": "python3"
  },
  "language_info": {
   "codemirror_mode": {
    "name": "ipython",
    "version": 3
   },
   "file_extension": ".py",
   "mimetype": "text/x-python",
   "name": "python",
   "nbconvert_exporter": "python",
   "pygments_lexer": "ipython3",
   "version": "3.10.8"
  }
 },
 "nbformat": 4,
 "nbformat_minor": 5
}
