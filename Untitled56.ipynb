{
 "cells": [
  {
   "cell_type": "code",
   "execution_count": null,
   "id": "8ef75849-2dd9-4e24-be34-63ccb9f505fe",
   "metadata": {},
   "outputs": [],
   "source": [
    "1.Precision measures the proportion of correctly predicted positive instances. Accuracy assesses the overall correctness of predictions. \n",
    "Recall evaluates the proportion of actual positive instances correctly identified by the model.\n",
    "\n",
    "2.The F1 score is calculated as the harmonic mean of the precision and recall scores, as shown below. \n",
    "It ranges from 0-100%, and a higher F1 score denotes a better quality classifier.\n",
    "\n",
    "3.The ROC AUC score is the area under the ROC curve. It sums up how well a model can produce relative scores to discriminate between positive or negative instances across all classification thresholds. \n",
    "The ROC AUC score ranges from 0 to 1, where 0.5 indicates random guessing, and 1 indicates perfect performance.\n",
    "\n",
    "4.Classification Metrics like accuracy, precision, recall are good ways to evaluate classification models for balanced datasets, but if the data is imbalanced then other methods like ROC/AUC perform better in evaluating the model performance.\n",
    "In machine learning and statistical classification, multiclass classification or multinomial classification is the problem of classifying instances into one of three or more classes (classifying instances into one of two classes is called binary classification).\n",
    "\n",
    "5.Logistic regression can be applied to solve multiclass problems. For each class, build a logistic regression to find the probability the observation belongs to that class. \n",
    "For each data point, predict the class with the highest probability. Normalizes probabilities so they sum to 1.\n",
    "\n",
    "6.In a multiclass classification, we train a classifier using our training data and use this classifier for classifying new examples. Load dataset from the source. Split the dataset into “training” and “test” data. Train Decision tree, SVM, and KNN classifiers on the training data.\n",
    "\n",
    "7.Model Deployment typically involves four steps: Planning, Building, Deployment, and Monitoring. What is the importance of Model Deployment in business? Model Deployment allows businesses to make more accurate and data-driven decisions, ultimately improving their efficiency and productivity.\n",
    "\n",
    "8.Multicloud deployments interconnect services from separate cloud environments for different purposes without having to connect the clouds\n",
    "\n",
    "9."
   ]
  }
 ],
 "metadata": {
  "kernelspec": {
   "display_name": "Python 3 (ipykernel)",
   "language": "python",
   "name": "python3"
  },
  "language_info": {
   "codemirror_mode": {
    "name": "ipython",
    "version": 3
   },
   "file_extension": ".py",
   "mimetype": "text/x-python",
   "name": "python",
   "nbconvert_exporter": "python",
   "pygments_lexer": "ipython3",
   "version": "3.10.8"
  }
 },
 "nbformat": 4,
 "nbformat_minor": 5
}
