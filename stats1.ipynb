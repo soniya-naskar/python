{
 "cells": [
  {
   "cell_type": "code",
   "execution_count": null,
   "id": "4973e360-e7b1-46e2-8ffd-be13dc8f6dc0",
   "metadata": {},
   "outputs": [],
   "source": [
    "# 1.Statistics is the study of the collection, analysis, interpretation, presentation, and organization of data.\n",
    "# 2.The two major areas of statistics are known as descriptive statistics, which describes the properties of sample and population data, and inferential statistics, which uses those properties to test hypotheses and draw conclusions."
   ]
  },
  {
   "cell_type": "code",
   "execution_count": null,
   "id": "438a4c5e-4190-4f81-9e85-6097115ef7c3",
   "metadata": {},
   "outputs": [],
   "source": [
    "# 3. The words are similar and easy to mix up, but an easy way to remember the difference between the two types of data is with a word trick – “quantitative” has a t, like “quantity.” When we think of quantities, we think of numbers.\n",
    "#   “Qualitative” measures the “quality” rather than the numerical value.\n",
    "#   eg: for quantitative like heights of student in a classroom\n",
    "#   eg for qualitative like gender of students in a classroom"
   ]
  },
  {
   "cell_type": "code",
   "execution_count": null,
   "id": "0efacc35-a0d5-4c60-b26c-37b6b8422cb2",
   "metadata": {},
   "outputs": [],
   "source": [
    "# 4. 1. qualitative 2. qualitative 3. quantitaive 4. quantitative\n",
    "     "
   ]
  },
  {
   "cell_type": "code",
   "execution_count": null,
   "id": "cddb6146-1ee3-42dd-b67f-eef9025a0ce1",
   "metadata": {},
   "outputs": [],
   "source": [
    "# 5. Nominal\n",
    "A variable measured on a \"nominal\" scale is a variable that does not really have any evaluative distinction. \n",
    "One value is really not any greater than another. A good example of a nominal variable is sex (or gender).\n",
    "\n",
    "Ordinal\n",
    "Something measured on an \"ordinal\" scale does have an evaluative connotation.\n",
    "One value is greater or larger or better than the other. \n",
    "\n",
    "Interval\n",
    "A variable measured on an interval scale gives information about more or betterness as ordinal scales do, \n",
    "but interval variables have an equal distance between each value. Temperature using Celsius or Fahrenheit is a good example.\n",
    "\n"
   ]
  },
  {
   "cell_type": "code",
   "execution_count": null,
   "id": "3ebc1d67-2e40-40e6-9585-0884416e6f8e",
   "metadata": {},
   "outputs": [],
   "source": [
    "6.It is important to understand the level of measurement of variables in research,\n",
    "because the level of measurement determines the type of statistical analysis that can be conducted,\n",
    "and, therefore, the type of conclusions that can be drawn from the research."
   ]
  },
  {
   "cell_type": "code",
   "execution_count": null,
   "id": "950135e1-14a8-4ca3-9d4c-a34c18d8fa4c",
   "metadata": {},
   "outputs": [],
   "source": [
    "7. Nominal data is a group of non-parametric variables, whereas Ordinal data is a group of non-parametric ordered variables.\n",
    "Ordinal data is analyzed by mode, median, quartiles, and percentile, whereas nominal data is analyzed by grouping variables \n",
    "into categories and calculating the distribution mode."
   ]
  },
  {
   "cell_type": "code",
   "execution_count": null,
   "id": "a059ef92-545e-4a91-8138-f1fdeffb5ae2",
   "metadata": {},
   "outputs": [],
   "source": [
    "8.A range plot sometimes looks like a bar chart"
   ]
  },
  {
   "cell_type": "code",
   "execution_count": null,
   "id": "25185663-076f-4259-9f82-ccc83471a79a",
   "metadata": {},
   "outputs": [],
   "source": [
    "9. Descriptive statistics uses the data to provide descriptions of the population, either through numerical calculations or\n",
    "graphs or tables. Inferential statistics makes inferences and predictions about a population based on a sample of data taken \n",
    "from the population in question.\n",
    "Eg: descriptive statistics state facts and proven outcomes from a population, \n",
    "whereas inferential statistics analyze samplings to make predictions about larger populations."
   ]
  },
  {
   "cell_type": "code",
   "execution_count": null,
   "id": "913768d1-bfc9-4329-a75b-161954ec0824",
   "metadata": {},
   "outputs": [],
   "source": [
    "10. The 3 most common measures of central tendency are the mode, median, and mean.\n",
    "Mode: the most frequent value.\n",
    "Median: the middle number in an ordered dataset. \n",
    "Mean: the sum of all values divided by the total number of values."
   ]
  }
 ],
 "metadata": {
  "kernelspec": {
   "display_name": "Python 3 (ipykernel)",
   "language": "python",
   "name": "python3"
  },
  "language_info": {
   "codemirror_mode": {
    "name": "ipython",
    "version": 3
   },
   "file_extension": ".py",
   "mimetype": "text/x-python",
   "name": "python",
   "nbconvert_exporter": "python",
   "pygments_lexer": "ipython3",
   "version": "3.10.8"
  }
 },
 "nbformat": 4,
 "nbformat_minor": 5
}
