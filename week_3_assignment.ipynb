{
 "cells": [
  {
   "cell_type": "code",
   "execution_count": 1,
   "id": "892e4b57-d62d-4362-9641-b9dcdf3255a4",
   "metadata": {},
   "outputs": [],
   "source": [
    "##question 1- def keyword is used to create a function\n",
    "def odd1(l):\n",
    "    l1=[]\n",
    "    for i in l:\n",
    "        if i%2 != 0:\n",
    "            l1.append(i)\n",
    "    return l1       "
   ]
  },
  {
   "cell_type": "code",
   "execution_count": 2,
   "id": "932cf399-c2a9-4cea-945e-3f9472428414",
   "metadata": {},
   "outputs": [
    {
     "data": {
      "text/plain": [
       "[1, 3, 5, 7, 9, 11, 13, 15, 17, 19, 21, 23, 25]"
      ]
     },
     "execution_count": 2,
     "metadata": {},
     "output_type": "execute_result"
    }
   ],
   "source": [
    "l=[1,2,3,4,5,6,7,8,9,10,11,12,13,14,15,16,17,18,19,20,21,22,23,24,25]\n",
    "odd1(l)"
   ]
  },
  {
   "cell_type": "code",
   "execution_count": 3,
   "id": "b944847e-db84-4bdd-8e98-f5327111ac0f",
   "metadata": {},
   "outputs": [
    {
     "data": {
      "text/plain": [
       "(1, 2, 3, 4, 5)"
      ]
     },
     "execution_count": 3,
     "metadata": {},
     "output_type": "execute_result"
    }
   ],
   "source": [
    "##question 2-The args stands for arguments passed to the function where it is unsure about the number of arguments whereas kwargs stands for keyword arguments which are passed along with the values into the function.\n",
    "def func(*args):\n",
    "    return args\n",
    "func(1,2,3,4,5)"
   ]
  },
  {
   "cell_type": "code",
   "execution_count": 4,
   "id": "429e76bf-b808-4b74-9a73-a519368afb75",
   "metadata": {},
   "outputs": [
    {
     "data": {
      "text/plain": [
       "{'a': [1, 2, 3, 4], 'b': 'soniya', 'c': 13}"
      ]
     },
     "execution_count": 4,
     "metadata": {},
     "output_type": "execute_result"
    }
   ],
   "source": [
    "def func1(**kwargs):\n",
    "    return kwargs\n",
    "func1(a=[1,2,3,4],b='soniya',c=13)"
   ]
  },
  {
   "cell_type": "code",
   "execution_count": 5,
   "id": "dbc032d6-6bf8-47b3-92b2-0f5fe8be6cbb",
   "metadata": {},
   "outputs": [],
   "source": [
    "##question 3- iterator is an object allows to iterate over a list of items. iter() method used for initializing an iterator and next() method used for iteration\n",
    "l2=[2, 4, 6, 8, 10, 12, 14,16, 18, 20]\n",
    "d=iter(l2)"
   ]
  },
  {
   "cell_type": "code",
   "execution_count": 6,
   "id": "48eee3e1-f0f3-400c-8d4f-bf3dc318bba6",
   "metadata": {},
   "outputs": [
    {
     "data": {
      "text/plain": [
       "2"
      ]
     },
     "execution_count": 6,
     "metadata": {},
     "output_type": "execute_result"
    }
   ],
   "source": [
    "next(d)"
   ]
  },
  {
   "cell_type": "code",
   "execution_count": 7,
   "id": "cd96172f-b096-4623-8d2f-d9437eee2a6f",
   "metadata": {},
   "outputs": [
    {
     "data": {
      "text/plain": [
       "4"
      ]
     },
     "execution_count": 7,
     "metadata": {},
     "output_type": "execute_result"
    }
   ],
   "source": [
    "next(d)"
   ]
  },
  {
   "cell_type": "code",
   "execution_count": 8,
   "id": "069f0bbe-3a46-42f3-87f2-e1bdbc636b1a",
   "metadata": {},
   "outputs": [
    {
     "data": {
      "text/plain": [
       "6"
      ]
     },
     "execution_count": 8,
     "metadata": {},
     "output_type": "execute_result"
    }
   ],
   "source": [
    "next(d)"
   ]
  },
  {
   "cell_type": "code",
   "execution_count": 9,
   "id": "a6514ac8-5d36-4e03-ab0a-9f5e9fa53302",
   "metadata": {},
   "outputs": [
    {
     "data": {
      "text/plain": [
       "8"
      ]
     },
     "execution_count": 9,
     "metadata": {},
     "output_type": "execute_result"
    }
   ],
   "source": [
    "next(d)"
   ]
  },
  {
   "cell_type": "code",
   "execution_count": 10,
   "id": "7be79768-699d-46f4-a0e7-ed7f11ec17c5",
   "metadata": {},
   "outputs": [
    {
     "data": {
      "text/plain": [
       "10"
      ]
     },
     "execution_count": 10,
     "metadata": {},
     "output_type": "execute_result"
    }
   ],
   "source": [
    "next(d)"
   ]
  },
  {
   "cell_type": "code",
   "execution_count": 13,
   "id": "571a0293-a498-47ac-9ac5-8d79cd778058",
   "metadata": {},
   "outputs": [
    {
     "name": "stdout",
     "output_type": "stream",
     "text": [
      "2\n",
      "3\n",
      "5\n",
      "7\n",
      "11\n",
      "13\n",
      "17\n",
      "19\n",
      "23\n",
      "29\n",
      "31\n",
      "37\n",
      "41\n",
      "43\n",
      "47\n",
      "53\n",
      "59\n",
      "61\n",
      "67\n",
      "71\n"
     ]
    }
   ],
   "source": [
    "## question-5\n",
    "def is_prime(num):\n",
    "    if num <= 1:\n",
    "        return False\n",
    "    for i in range(2, int(num**0.5) + 1):\n",
    "        if num % i == 0:\n",
    "            return False\n",
    "    return True\n",
    "\n",
    "def prime_generator():\n",
    "    num = 2\n",
    "    while num < 1000:\n",
    "        if is_prime(num):\n",
    "            yield num\n",
    "        num = num+ 1\n",
    "z=prime_generator()\n",
    "for i in range(20):\n",
    "    print(next(z))"
   ]
  },
  {
   "cell_type": "code",
   "execution_count": 14,
   "id": "e1a68147-60ad-47e3-af47-a7e4daf7d321",
   "metadata": {},
   "outputs": [
    {
     "name": "stdout",
     "output_type": "stream",
     "text": [
      "0\n",
      "1\n",
      "1\n",
      "2\n",
      "3\n",
      "5\n",
      "8\n",
      "13\n",
      "21\n",
      "34\n"
     ]
    }
   ],
   "source": [
    "## question 6\n",
    "def fib():\n",
    "    n,m=0,1\n",
    "    while n<100:\n",
    "         yield n\n",
    "         n,m=m,n+m\n",
    "z=fib()\n",
    "for i in range(10):\n",
    "    print(next(z))\n",
    "    "
   ]
  },
  {
   "cell_type": "code",
   "execution_count": 15,
   "id": "e7b9af84-6595-485d-8445-8b82b0cf8bca",
   "metadata": {},
   "outputs": [
    {
     "name": "stdout",
     "output_type": "stream",
     "text": [
      "['p', 'w', 's', 'k', 'i', 'l', 'l', 's']\n"
     ]
    }
   ],
   "source": [
    "## question 7   \n",
    "b='pwskills'\n",
    "res=[ch for ch in b]\n",
    "print(res)"
   ]
  },
  {
   "cell_type": "code",
   "execution_count": 17,
   "id": "c2f3cbda-e2e3-46b9-a568-17d7ad8b15e9",
   "metadata": {},
   "outputs": [
    {
     "name": "stdout",
     "output_type": "stream",
     "text": [
      "434 is a Palindrome\n"
     ]
    }
   ],
   "source": [
    "## question 8\n",
    "def isPalindrome(n):  \n",
    "    \n",
    "    reverse = 0\n",
    "    reminder = 0\n",
    "    num=n\n",
    "    while(n != 0):\n",
    "        remainder = n % 10\n",
    "        reverse = reverse * 10 + remainder\n",
    "        n = int(n / 10)\n",
    "    \n",
    "    if(num == reverse):\n",
    "        print(num,'is a Palindrome')\n",
    "    else:\n",
    "        print(num,'is not a Palindrome')\n",
    "\n",
    "isPalindrome(434)\n",
    "\n",
    "\n",
    "    "
   ]
  },
  {
   "cell_type": "code",
   "execution_count": 26,
   "id": "99503557-b417-4168-8853-92c299eaacc7",
   "metadata": {},
   "outputs": [
    {
     "name": "stdout",
     "output_type": "stream",
     "text": [
      "[1, 2, 3, 4, 5, 6, 7, 8, 9, 10, 11, 12, 13, 14, 15, 16, 17, 18, 19, 20, 21, 22, 23, 24, 25, 26, 27, 28, 29, 30, 31, 32, 33, 34, 35, 36, 37, 38, 39, 40, 41, 42, 43, 44, 45, 46, 47, 48, 49, 50, 51, 52, 53, 54, 55, 56, 57, 58, 59, 60, 61, 62, 63, 64, 65, 66, 67, 68, 69, 70, 71, 72, 73, 74, 75, 76, 77, 78, 79, 80, 81, 82, 83, 84, 85, 86, 87, 88, 89, 90, 91, 92, 93, 94, 95, 96, 97, 98, 99]\n"
     ]
    }
   ],
   "source": [
    "## quesion 9\n",
    "\n",
    "l=[i for i in range(1,100) ]\n",
    "print(l)"
   ]
  },
  {
   "cell_type": "code",
   "execution_count": 27,
   "id": "a81e1ed2-54ba-4164-85d5-0e369348f4b9",
   "metadata": {},
   "outputs": [
    {
     "name": "stdout",
     "output_type": "stream",
     "text": [
      "[1, 3, 5, 7, 9, 11, 13, 15, 17, 19, 21, 23, 25, 27, 29, 31, 33, 35, 37, 39, 41, 43, 45, 47, 49, 51, 53, 55, 57, 59, 61, 63, 65, 67, 69, 71, 73, 75, 77, 79, 81, 83, 85, 87, 89, 91, 93, 95, 97, 99]\n"
     ]
    }
   ],
   "source": [
    "d=[i for i in range(1,100) if i%2 !=0]\n",
    "print(d)"
   ]
  },
  {
   "cell_type": "code",
   "execution_count": 28,
   "id": "f138da57-ef03-4638-a54c-5fa260a66246",
   "metadata": {},
   "outputs": [],
   "source": [
    "## question 4- generator is a function that returns an iterator that produces a sequence of values when iterated over\n",
    "## yield in Python can be used like the return statement in a function. When done so, the function instead of returning the output, it returns a generator that can be iterated upon."
   ]
  },
  {
   "cell_type": "code",
   "execution_count": 34,
   "id": "73932dce-dd1e-429e-9fc6-3b4121d9458e",
   "metadata": {},
   "outputs": [
    {
     "name": "stdout",
     "output_type": "stream",
     "text": [
      "1\n",
      "2\n",
      "3\n",
      "4\n",
      "5\n",
      "6\n",
      "7\n",
      "8\n",
      "9\n",
      "10\n"
     ]
    }
   ],
   "source": [
    "def example(n):\n",
    "    a=1\n",
    "    for i in range(n):\n",
    "        yield a\n",
    "        a=a+1\n",
    "\n",
    "\n",
    "for i in example(10):\n",
    "    print(i)"
   ]
  },
  {
   "cell_type": "code",
   "execution_count": 31,
   "id": "2374b45a-8a5b-4491-8b42-8c0fc8e49d77",
   "metadata": {},
   "outputs": [
    {
     "data": {
      "text/plain": [
       "generator"
      ]
     },
     "execution_count": 31,
     "metadata": {},
     "output_type": "execute_result"
    }
   ],
   "source": [
    "type(d)"
   ]
  },
  {
   "cell_type": "code",
   "execution_count": null,
   "id": "6649df93-6443-4591-8534-c710376627e9",
   "metadata": {},
   "outputs": [],
   "source": []
  }
 ],
 "metadata": {
  "kernelspec": {
   "display_name": "Python 3 (ipykernel)",
   "language": "python",
   "name": "python3"
  },
  "language_info": {
   "codemirror_mode": {
    "name": "ipython",
    "version": 3
   },
   "file_extension": ".py",
   "mimetype": "text/x-python",
   "name": "python",
   "nbconvert_exporter": "python",
   "pygments_lexer": "ipython3",
   "version": "3.10.8"
  }
 },
 "nbformat": 4,
 "nbformat_minor": 5
}
