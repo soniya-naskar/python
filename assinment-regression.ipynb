{
 "cells": [
  {
   "cell_type": "code",
   "execution_count": null,
   "id": "a1105b60-7ce4-4f0b-8337-f51bdf4382cd",
   "metadata": {},
   "outputs": [],
   "source": [
    "#quest-1\n",
    "#Simple linear regression is a statistical method used to model the relationship between two variables: one dependent variable and one independent variable. It assumes a linear relationship between the two variables and aims to find the best-fitting line that represents this relationship.   \n",
    "#Example:Predicting house prices based on square footage.\n",
    "#Multiple linear regression is an extension of simple linear regression that allows us to model the relationship between one dependent variable and two or more independent variables. It helps us understand how multiple factors influence the dependent variable.   \n",
    "#Example:Predicting car prices based on factors like horsepower, mileage, age, and brand."
   ]
  },
  {
   "cell_type": "code",
   "execution_count": null,
   "id": "92c14041-a728-40e6-80f5-861c11413eb6",
   "metadata": {},
   "outputs": [],
   "source": [
    "#quest-2\n",
    "#Linear regression is a powerful tool, but it relies on several key assumptions:\n",
    "#Linearity: There is a linear relationship between the dependent variable and the independent variables.\n",
    "#Independence: The observations are independent of each other.\n",
    "#Scatter plots: Visualize the relationship between the dependent and independent variables. A linear pattern suggests linearity.\n",
    "#Plot residuals against time: If there is a pattern, it suggests dependence."
   ]
  },
  {
   "cell_type": "code",
   "execution_count": null,
   "id": "61963bbd-b934-407b-9f79-2d156355c3d9",
   "metadata": {},
   "outputs": [],
   "source": [
    "#quest-3\n",
    "The slope in a linear regression model represents the rate of change of the dependent variable with respect to the independent variable.\n",
    "The intercept in a linear regression model is the predicted value of the dependent variable when the independent variable is equal to zero\n",
    "eg-Lets say we are trying to predict the price of a house based on its square footage. The slope in this model would represent the average increase in the house price for each additional square foot\n",
    "the intercept would be the predicted price of a house with zero square footage"
   ]
  },
  {
   "cell_type": "code",
   "execution_count": null,
   "id": "46fba316-c1de-42c4-800c-eb6b6b9826fc",
   "metadata": {},
   "outputs": [],
   "source": [
    "#quest-4\n",
    "Gradient descent is an optimization algorithm used to minimize a function.\n",
    "In machine learning, the goal is to find the parameters that minimize the error between the models predictions and the actual values. \n",
    "Gradient descent is used to iteratively adjust these parameters like the cost function which defines the performance metrics and to find the global minima."
   ]
  },
  {
   "cell_type": "code",
   "execution_count": null,
   "id": "1df3af10-22d6-4895-859c-0ef1b54ff6f0",
   "metadata": {},
   "outputs": [],
   "source": [
    "#quest-5\n",
    "Multiple linear regression is a statistical method used to model the relationship between a dependent variable and two or more independent variables. \n",
    "Its an extension of simple linear regression, which only considers one independent variable.   \n",
    "\n",
    "#quest-6\n",
    "Multicollinearity occurs when two or more independent variables in a multiple regression model are highly correlated with each other. \n",
    "This correlation makes it difficult to isolate the individual effect of each variable on the dependent variable.\n",
    "Correlation matrix: Calculate the correlation coefficients between all pairs of independent variables.\n",
    "High correlations (typically above 0.7 or 0.8) indicate potential multicollinearity\n",
    "\n",
    "#quest-7\n",
    "Polynomial regression models the relationship between the dependent and independent variables as an nth-degree polynomial.\n",
    "This allows for capturing non-linear patterns in the data.\n",
    "Linear regression models the relationship between a dependent variable and one or more independent variables as a straight line. \n",
    "It assumes a linear relationship between the variables.\n",
    "\n",
    "#quest-8\n",
    "Advantages of polynomial regression\n",
    "Flexibility: It can capture complex non-linear relationships between variables, which linear regression cannot.\n",
    "Accuracy: Often provides better accuracy than linear regression when the relationship between variables is non-linear.\n",
    "Disadvantages of polynomial regression\n",
    "Overfitting: Its prone to overfitting, especially with higher-degree polynomials. \n",
    "This means the model fits the training data too closely and performs poorly on new data.\n",
    "Polynomial regression is used because-\n",
    "Non-linear Relationships: When the relationship between the dependent and independent variables is clearly non-linear based on visualizations or domain knowledge.\n",
    "Improved Model Fit: When linear regression is not providing a satisfactory fit to the data."
   ]
  }
 ],
 "metadata": {
  "kernelspec": {
   "display_name": "Python 3 (ipykernel)",
   "language": "python",
   "name": "python3"
  },
  "language_info": {
   "codemirror_mode": {
    "name": "ipython",
    "version": 3
   },
   "file_extension": ".py",
   "mimetype": "text/x-python",
   "name": "python",
   "nbconvert_exporter": "python",
   "pygments_lexer": "ipython3",
   "version": "3.10.8"
  }
 },
 "nbformat": 4,
 "nbformat_minor": 5
}
