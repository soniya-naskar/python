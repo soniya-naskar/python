{
 "cells": [
  {
   "cell_type": "code",
   "execution_count": null,
   "id": "6249dd03-8c54-4c3c-bd00-839c64f68c64",
   "metadata": {},
   "outputs": [],
   "source": [
    "1. mean median mode\n",
    "2.The difference between mean, median and mode are: Mean is the average value of the given observations.\n",
    "Median is the middle value of the given observations. Mode is the most repeated value in the given observation\n",
    "3. mean= 177\n",
    "median=179.5\n",
    "mode=178,177\n",
    "4.3.199"
   ]
  },
  {
   "cell_type": "code",
   "execution_count": null,
   "id": "8b3baa57-fd22-413f-ae48-f79d316f5a32",
   "metadata": {},
   "outputs": [],
   "source": [
    "5.variance is a measure of dispersion that takes into account the spread of all data points in a data set.\n",
    "Its the measure of dispersion the most often used, along with the standard deviation, which is simply the\n",
    "square root of the variance.\n",
    "Measures of Dispersion Example\n",
    "Suppose we have two data sets A = {3, 1, 6, 2} and B = {1, 5, 9, 10}. \n",
    "The variance(population) of A is 3.5 and the variance(population) of B is 12.68. \n",
    "This implies that data set B is more variable than data set A.\n",
    "\n",
    "6.A Venn diagram is an illustration that uses circles to show the relationships among things or finite groups of things.\n",
    "\n",
    "7. 1-2,6\n",
    "   2-0,2,3,4,5,6,7,8,10\n",
    "    \n",
    "8.Skewness is a measurement of the distortion of symmetrical distribution or asymmetry in a data set. \n",
    "Skewness is demonstrated on a bell curve when data points are not distributed symmetrically to the left and right sides of the median on a bell curve.   \n",
    "\n",
    "9.When the distribution is skewed to the right, the mean is often greater than the median. \n",
    "In symmetric distributions, we expect the mean and median to be approximately equal in value. \n",
    "\n",
    "10.both covariance and correlation measure the relationship and the dependency between two variables. \n",
    "Covariance indicates the direction of the linear relationship between variables while correlation measures \n",
    "both the strength and direction of the linear relationship between two variables.\n",
    "\n",
    "11.The general formula for calculating the sample mean is given by x̄ = ( Σ xi ) / n. \n",
    "Here, x̄ represents the sample mean, xi refers all X sample values and n stands for the number of sample terms in the data set.\n",
    "\n",
    "12.Any normal distribution has a graph that is perfectly symmetric about a vertical line through its peak. \n",
    "Therefore, all measures of central tendency (most commonly, the mean, median, and mode) give the same answer: the x -value of the peak\n",
    "\n",
    "13.Covariance indicates the direction of the linear relationship between variables. \n",
    "Correlation measures both the strength and direction of the linear relationship between two variables.\n",
    "\n",
    "14.Outliers are numbers in a data set that are vastly larger or smaller than the other values in the set.\n",
    "Mean, median and mode are measures of central tendency. Mean is the only measure of central tendency that is always affected by an outlier. \n",
    "Mean, the average, is the most popular measure of central tendency."
   ]
  }
 ],
 "metadata": {
  "kernelspec": {
   "display_name": "Python 3 (ipykernel)",
   "language": "python",
   "name": "python3"
  },
  "language_info": {
   "codemirror_mode": {
    "name": "ipython",
    "version": 3
   },
   "file_extension": ".py",
   "mimetype": "text/x-python",
   "name": "python",
   "nbconvert_exporter": "python",
   "pygments_lexer": "ipython3",
   "version": "3.10.8"
  }
 },
 "nbformat": 4,
 "nbformat_minor": 5
}
