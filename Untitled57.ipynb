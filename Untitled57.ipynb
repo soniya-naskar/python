{
 "cells": [
  {
   "cell_type": "code",
   "execution_count": null,
   "id": "9c15d5ad-d66d-4dec-8f37-6a33dfc0ca05",
   "metadata": {},
   "outputs": [],
   "source": [
    "1.Requirement Gathering and Analysis: Understand the projects goals, target audience, and business requirements. ...\n",
    "Planning\n",
    "Design\n",
    "Front-End Development\n",
    "Back-End Development\n",
    "Database Development\n",
    "Integration\n",
    "Testing\n",
    "\n",
    "2.Infrastructure: Cloud hosting uses a network of servers in different locations to host websites, while traditional hosting uses a single server or a group of servers located in a single location. \n",
    "This has implications on the performance and reliability of the hosting solution\n",
    "\n",
    "3.Evaluating providers based on their use of renewable energy, cooling technologies and overall sustainability initiatives can guide businesses towards making informed decisions that align with their green objectives.\n",
    "\n",
    "4.1 Flexible Everything.\n",
    "2 Modify Images.\n",
    "3 Use Scalar Vector Graphics (SVGs)\n",
    "4 Pay Attention to Breakpoints.\n",
    "5 Consider Card Interfaces.\n",
    "6 Minimalism Matters.\n",
    "7 Mobile-First Design Approach.\n",
    "8 Prioritize and Hide Content Appropriately.\n",
    "\n",
    "5."
   ]
  }
 ],
 "metadata": {
  "kernelspec": {
   "display_name": "Python 3 (ipykernel)",
   "language": "python",
   "name": "python3"
  },
  "language_info": {
   "codemirror_mode": {
    "name": "ipython",
    "version": 3
   },
   "file_extension": ".py",
   "mimetype": "text/x-python",
   "name": "python",
   "nbconvert_exporter": "python",
   "pygments_lexer": "ipython3",
   "version": "3.10.8"
  }
 },
 "nbformat": 4,
 "nbformat_minor": 5
}
