{
 "cells": [
  {
   "cell_type": "code",
   "execution_count": 1,
   "id": "b93ef54d-fd3e-4787-99d8-95377ddfe266",
   "metadata": {},
   "outputs": [],
   "source": [
    "## question 1-The class creates a user-defined data structure, which holds its own data members and member functions,it is a blueprint of an object\n",
    "## An Object is an instance of a Class,an instance is a copy of the class with actual values."
   ]
  },
  {
   "cell_type": "code",
   "execution_count": 3,
   "id": "24ab4c0a-89cf-42cb-943c-ca4cfc68e0c4",
   "metadata": {},
   "outputs": [
    {
     "name": "stdout",
     "output_type": "stream",
     "text": [
      "hello\n"
     ]
    }
   ],
   "source": [
    "## e.g\n",
    "class mycls:   ##creating a class named mycls\n",
    "    def xyz(self):\n",
    "        print(\"hello\")\n",
    "        \n",
    "t=mycls ##creating object for the class mycls\n",
    "t.xyz()"
   ]
  },
  {
   "cell_type": "code",
   "execution_count": 4,
   "id": "b6f8d724-6087-4e78-b8c9-41732e05a54f",
   "metadata": {},
   "outputs": [],
   "source": [
    "## question 2- four pillars of OOPS are i) abstraction ii) polymorphism iii) encapsulation iV) inheritance"
   ]
  },
  {
   "cell_type": "code",
   "execution_count": 5,
   "id": "84c7fcf7-1f5e-491b-bacb-40d0a98d9dd2",
   "metadata": {},
   "outputs": [],
   "source": [
    "## question 3-  The __init__() function is used as constructor to assign values to the data member inside the class. e.g-\n",
    "\n",
    "class myclass:\n",
    "    def __init__(self,name,roll):\n",
    "        self.name=name\n",
    "        self.roll=roll\n",
    "        \n",
    "    def result(self):\n",
    "        return self.name,self.roll"
   ]
  },
  {
   "cell_type": "code",
   "execution_count": 6,
   "id": "bc8684b3-b6ed-4616-b1b8-57f27f0c27eb",
   "metadata": {},
   "outputs": [
    {
     "data": {
      "text/plain": [
       "('soniya', 7)"
      ]
     },
     "execution_count": 6,
     "metadata": {},
     "output_type": "execute_result"
    }
   ],
   "source": [
    "s=myclass(\"soniya\",7)\n",
    "s.result()"
   ]
  },
  {
   "cell_type": "code",
   "execution_count": 7,
   "id": "1fd2f3aa-4645-4940-bb60-31cc65aaabea",
   "metadata": {},
   "outputs": [],
   "source": [
    "## question 4-  By using the “self”  we can access the attributes and methods of the class in python. It binds the attributes with the given arguments."
   ]
  },
  {
   "cell_type": "code",
   "execution_count": 8,
   "id": "890d9461-60e1-41c9-945e-8ef6ec1939da",
   "metadata": {},
   "outputs": [
    {
     "data": {
      "text/plain": [
       "'hello there'"
      ]
     },
     "execution_count": 8,
     "metadata": {},
     "output_type": "execute_result"
    }
   ],
   "source": [
    "## question 5-Inheritance allows us to define a class that inherits all the methods and properties from another class,it consists of parent class and child class\n",
    "## e.g-\n",
    "class myclass:\n",
    "    def demo(self):\n",
    "        return \"hello there\"\n",
    "    \n",
    "class myclass1(myclass):\n",
    "    def demo1(self):\n",
    "        return \"i am soniya naskar\"\n",
    "    \n",
    "r=myclass1()\n",
    "r.demo()"
   ]
  },
  {
   "cell_type": "code",
   "execution_count": 9,
   "id": "b9271a5e-0cb0-4885-b52d-6a5718c213e8",
   "metadata": {},
   "outputs": [
    {
     "data": {
      "text/plain": [
       "'i am soniya naskar'"
      ]
     },
     "execution_count": 9,
     "metadata": {},
     "output_type": "execute_result"
    }
   ],
   "source": [
    "r.demo1()"
   ]
  },
  {
   "cell_type": "code",
   "execution_count": null,
   "id": "7c7bb9cd-7112-4ae6-8cc9-ed9d7876d34a",
   "metadata": {},
   "outputs": [],
   "source": []
  }
 ],
 "metadata": {
  "kernelspec": {
   "display_name": "Python 3 (ipykernel)",
   "language": "python",
   "name": "python3"
  },
  "language_info": {
   "codemirror_mode": {
    "name": "ipython",
    "version": 3
   },
   "file_extension": ".py",
   "mimetype": "text/x-python",
   "name": "python",
   "nbconvert_exporter": "python",
   "pygments_lexer": "ipython3",
   "version": "3.10.8"
  }
 },
 "nbformat": 4,
 "nbformat_minor": 5
}
