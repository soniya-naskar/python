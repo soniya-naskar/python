{
 "cells": [
  {
   "cell_type": "code",
   "execution_count": 1,
   "id": "5da5fefb-37c1-4418-aa3f-f957615078b1",
   "metadata": {},
   "outputs": [],
   "source": [
    "## question 1- Abstraction in python is defined as a process of handling complexity by hiding unnecessary information from the user\n",
    "import abc\n",
    "class car:\n",
    "    @abc.abstractmethod\n",
    "    def name(self):\n",
    "        pass\n",
    "    @abc.abstractmethod\n",
    "    def colour(self):\n",
    "        pass\n",
    "    \n",
    "class car1(car):\n",
    "    def name(self):\n",
    "        return \"the car is tesla\"\n",
    "    def colour(self):\n",
    "        return \"it is white in colour\"\n",
    "\n",
    "class car2(car):\n",
    "    def name(self):\n",
    "        return \"the car is bmw\"\n",
    "    def colour(self):\n",
    "        return \"it is red in colour\""
   ]
  },
  {
   "cell_type": "code",
   "execution_count": 2,
   "id": "3a1d4209-d61b-4530-9f5a-9e98b0149190",
   "metadata": {},
   "outputs": [],
   "source": [
    "t=car2()"
   ]
  },
  {
   "cell_type": "code",
   "execution_count": 3,
   "id": "84846eb7-f74d-4bad-b9e7-db2c99ebea97",
   "metadata": {},
   "outputs": [
    {
     "data": {
      "text/plain": [
       "'the car is bmw'"
      ]
     },
     "execution_count": 3,
     "metadata": {},
     "output_type": "execute_result"
    }
   ],
   "source": [
    "t.name()"
   ]
  },
  {
   "cell_type": "code",
   "execution_count": 4,
   "id": "8000f226-6ba3-43cf-bcc5-6d918cbf3450",
   "metadata": {},
   "outputs": [
    {
     "data": {
      "text/plain": [
       "'it is red in colour'"
      ]
     },
     "execution_count": 4,
     "metadata": {},
     "output_type": "execute_result"
    }
   ],
   "source": [
    "t.colour()"
   ]
  },
  {
   "cell_type": "code",
   "execution_count": 5,
   "id": "7e8d8d94-907b-4d37-9bc2-831a46c0ffcb",
   "metadata": {},
   "outputs": [
    {
     "data": {
      "text/plain": [
       "'the car is tesla'"
      ]
     },
     "execution_count": 5,
     "metadata": {},
     "output_type": "execute_result"
    }
   ],
   "source": [
    "s=car1()\n",
    "s.name()"
   ]
  },
  {
   "cell_type": "code",
   "execution_count": 6,
   "id": "3dc374f1-febb-4d63-9d0a-7b94e5b9557f",
   "metadata": {},
   "outputs": [
    {
     "data": {
      "text/plain": [
       "'this is a example of abstraction'"
      ]
     },
     "execution_count": 6,
     "metadata": {},
     "output_type": "execute_result"
    }
   ],
   "source": [
    "## question 2-  Abstraction is achieved by creating classes and hiding the implementation details of the methods\n",
    "## Encapsulation is achieved by making the data and methods private and only accessing them through public methods.\n",
    "\n",
    "class abstract:\n",
    "    @abc.abstractmethod\n",
    "    def xyz(self):\n",
    "        pass\n",
    "    \n",
    "class abs1(abstract):\n",
    "    def xyz(self):\n",
    "        return \"this is a example of abstraction\"\n",
    "    \n",
    "t=abs1()\n",
    "t.xyz()"
   ]
  },
  {
   "cell_type": "code",
   "execution_count": 7,
   "id": "0c2945ca-23a4-47d2-b793-cfb157b8c4fa",
   "metadata": {},
   "outputs": [],
   "source": [
    "class encap:\n",
    "    def __init__(self,name,id):\n",
    "        self.__name=name\n",
    "        self.__id=id\n",
    "    @property\n",
    "    def course(self):\n",
    "        return self.__name,self.__id\n",
    "    @course.setter\n",
    "    def set(self,id1):\n",
    "        if id1 > 0:\n",
    "            self.__id=id1\n",
    "        else:\n",
    "            self.__id=0\n",
    "    @course.getter\n",
    "    def get(self):\n",
    "        return self.__id\n",
    "    \n",
    "t=encap(\"data science\",2)    \n",
    "        "
   ]
  },
  {
   "cell_type": "code",
   "execution_count": 9,
   "id": "a4f18904-9e36-4bbb-9d74-9e1bfc917b24",
   "metadata": {},
   "outputs": [
    {
     "data": {
      "text/plain": [
       "('data science', 2)"
      ]
     },
     "execution_count": 9,
     "metadata": {},
     "output_type": "execute_result"
    }
   ],
   "source": [
    "t.course"
   ]
  },
  {
   "cell_type": "code",
   "execution_count": 12,
   "id": "99225250-03a7-4ea5-9248-38fadac27298",
   "metadata": {},
   "outputs": [],
   "source": [
    "t.set=23"
   ]
  },
  {
   "cell_type": "code",
   "execution_count": 13,
   "id": "94c2e5c3-ae36-4823-a5ac-5016b99ffaac",
   "metadata": {},
   "outputs": [
    {
     "data": {
      "text/plain": [
       "23"
      ]
     },
     "execution_count": 13,
     "metadata": {},
     "output_type": "execute_result"
    }
   ],
   "source": [
    "t.get"
   ]
  },
  {
   "cell_type": "code",
   "execution_count": 14,
   "id": "b7ddbd5e-7308-499b-ac41-592ce19694eb",
   "metadata": {},
   "outputs": [
    {
     "data": {
      "text/plain": [
       "0"
      ]
     },
     "execution_count": 14,
     "metadata": {},
     "output_type": "execute_result"
    }
   ],
   "source": [
    "t.set=-9\n",
    "t.get"
   ]
  },
  {
   "cell_type": "code",
   "execution_count": 15,
   "id": "3b40ef7f-87f7-4235-bab1-1d2706949feb",
   "metadata": {},
   "outputs": [],
   "source": [
    "## question 3- abc stands abstract base class it is a python module used in abstraction ,it builds the abstract classes it uses abstractmethod decorator function to provide for data hiding"
   ]
  },
  {
   "cell_type": "code",
   "execution_count": 16,
   "id": "7b797065-2fc8-4b35-9903-12568fe7d9bf",
   "metadata": {},
   "outputs": [],
   "source": [
    "## question 4- we can achieve data abstraction by using abstract classes and interfaces"
   ]
  },
  {
   "cell_type": "code",
   "execution_count": null,
   "id": "ae15e2a9-556d-47ff-80bc-a1c839d2c7af",
   "metadata": {},
   "outputs": [],
   "source": [
    "##question 5- Abstract classes cannot be instantiated, but they can be subclassed. When an abstract class is subclassed, the subclass usually provides implementations for all of the abstract methods in its parent class.\n",
    "## an example of creating the subclasses and accessing the implementations from the parent abstract class is shown in question-1"
   ]
  }
 ],
 "metadata": {
  "kernelspec": {
   "display_name": "Python 3 (ipykernel)",
   "language": "python",
   "name": "python3"
  },
  "language_info": {
   "codemirror_mode": {
    "name": "ipython",
    "version": 3
   },
   "file_extension": ".py",
   "mimetype": "text/x-python",
   "name": "python",
   "nbconvert_exporter": "python",
   "pygments_lexer": "ipython3",
   "version": "3.10.8"
  }
 },
 "nbformat": 4,
 "nbformat_minor": 5
}
