{
 "cells": [
  {
   "cell_type": "code",
   "execution_count": null,
   "id": "b1963434-c917-4ed2-843c-76898cf73a1a",
   "metadata": {},
   "outputs": [],
   "source": [
    "# question 1\n",
    "# An API, or Application Programming Interface, is a set of rules, protocols, \n",
    "# and tools that allows different software applications to communicate with each other\n",
    "# By using the Weather Forecast API, you can provide accurate and up-to-date weather information to your users without the need to collect and maintain the data yourself. \n",
    "# This is a classic example of how APIs enable developers to leverage external services to enhance their applications' capabilities.\n",
    "# it enables the frontend to communicate with the backend\n",
    "\n",
    "\n",
    "\n",
    "\n"
   ]
  },
  {
   "cell_type": "code",
   "execution_count": 1,
   "id": "d8e0f21a-b647-4738-b03e-2ac879c73320",
   "metadata": {},
   "outputs": [],
   "source": [
    "# question 2- advantages of api\n",
    "# The major benefit of using an API is accessing and consuming data and services from thousands of independent sources.\n",
    "#This means organizations of all sizes can access these functionalities without developing their own specialized applications.\n",
    "#Other major benefits to using APIs include: APIs increase business agility.\n",
    "# disadvantages of api\n",
    "# However, they also come with some drawbacks, such as security concerns, complexity, compatibility issues, dependency on third-party\n",
    "# developers, and governance and management issues."
   ]
  },
  {
   "cell_type": "code",
   "execution_count": 2,
   "id": "30ecad5a-1d52-4711-bf36-e5b1df5970cc",
   "metadata": {},
   "outputs": [],
   "source": [
    "# question 3\n",
    "# API stands for Application Programming Interface.\n",
    "# A Web API is an application programming interface for the Web. A Browser API can extend the functionality of a web browser."
   ]
  },
  {
   "cell_type": "code",
   "execution_count": 3,
   "id": "343608bb-df9e-438b-8acd-1259cd883cfe",
   "metadata": {},
   "outputs": [],
   "source": [
    "# APIs allow applications to communicate, while web services allow machines to communicate.\n",
    "#Web Services requires a network connection while APIs may or may not require a network for their operability. \n",
    "# Web services require SOAP and XML, which are no longer the most popular standard"
   ]
  },
  {
   "cell_type": "code",
   "execution_count": 4,
   "id": "1b3a1190-4147-4274-86bb-67c26536a4d8",
   "metadata": {},
   "outputs": [],
   "source": [
    "# question 4\n",
    "# SOAP messages are larger, which makes communication slower. \n",
    "# REST has faster performance due to smaller messages and caching support. SOAP is difficult to scale.\n",
    "# API calls made to your server will need more bandwidth and it will take more time to process the request and transfer the response back to the client. \n",
    "# In SOAP, the client-server communication depends on WSDL (Web Service Description Language) contracts, which implies tight coupling"
   ]
  },
  {
   "cell_type": "code",
   "execution_count": null,
   "id": "a2ae5ee9-7a4f-4455-aa3d-2d160853542e",
   "metadata": {},
   "outputs": [],
   "source": [
    "# question 5\n",
    "# SOAP uses only XML for exchanging information in its message format whereas REST is not restricted to XML and its the choice of implementer which Media-Type to use like XML, JSON, Plain-text. \n",
    "# Moreover, REST can use SOAP protocol but SOAP cannot use REST."
   ]
  }
 ],
 "metadata": {
  "kernelspec": {
   "display_name": "Python 3 (ipykernel)",
   "language": "python",
   "name": "python3"
  },
  "language_info": {
   "codemirror_mode": {
    "name": "ipython",
    "version": 3
   },
   "file_extension": ".py",
   "mimetype": "text/x-python",
   "name": "python",
   "nbconvert_exporter": "python",
   "pygments_lexer": "ipython3",
   "version": "3.10.8"
  }
 },
 "nbformat": 4,
 "nbformat_minor": 5
}
