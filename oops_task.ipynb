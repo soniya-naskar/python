{
 "cells": [
  {
   "cell_type": "code",
   "execution_count": 6,
   "id": "5dc41daa-5d1d-4518-a6d7-f0a882c7bf58",
   "metadata": {},
   "outputs": [],
   "source": [
    "## question -1\n",
    "class vehicle:\n",
    "    def __init__(self,name_of_vehicle, max_speed, average_of_vehicle):\n",
    "        self.name_of_vehicle=name_of_vehicle\n",
    "        self.max_speed=max_speed\n",
    "        self.average_of_vehicle=average_of_vehicle\n",
    "        \n",
    "    def res(self):\n",
    "        return self.name_of_vehicle,self.max_speed,self.average_of_vehicle"
   ]
  },
  {
   "cell_type": "code",
   "execution_count": 7,
   "id": "9c9714ba-bf16-4ba9-ad2c-a37d88a91f52",
   "metadata": {},
   "outputs": [],
   "source": [
    "obj=vehicle(\"audi\",35,123)"
   ]
  },
  {
   "cell_type": "code",
   "execution_count": 8,
   "id": "00cc0176-c474-4492-a0b2-b1beb1c72331",
   "metadata": {},
   "outputs": [
    {
     "data": {
      "text/plain": [
       "('audi', 35, 123)"
      ]
     },
     "execution_count": 8,
     "metadata": {},
     "output_type": "execute_result"
    }
   ],
   "source": [
    "obj.res()"
   ]
  },
  {
   "cell_type": "code",
   "execution_count": 9,
   "id": "ed1ccac3-96fe-42dc-9cf2-1e70611507bd",
   "metadata": {},
   "outputs": [],
   "source": [
    "#question 2\n",
    "class vehicle:\n",
    "    def __init__(self,name_of_vehicle, max_speed, average_of_vehicle):\n",
    "        self.name_of_vehicle=name_of_vehicle\n",
    "        self.max_speed=max_speed\n",
    "        self.average_of_vehicle=average_of_vehicle\n",
    "        \n",
    "    def res(self):\n",
    "        return self.name_of_vehicle,self.max_speed,self.average_of_vehicle\n",
    "    "
   ]
  },
  {
   "cell_type": "code",
   "execution_count": 15,
   "id": "8f1d38d1-b557-4623-bd75-922c497705a1",
   "metadata": {},
   "outputs": [],
   "source": [
    "class car(vehicle):\n",
    "    def seating_capacity(self,capacity):\n",
    "        return capacity,self.name_of_vehicle"
   ]
  },
  {
   "cell_type": "code",
   "execution_count": 16,
   "id": "183ed7a3-4213-4d08-ae8c-c8432732eca7",
   "metadata": {},
   "outputs": [],
   "source": [
    "obj1=car(\"audi\",56,23)"
   ]
  },
  {
   "cell_type": "code",
   "execution_count": 17,
   "id": "4ffa3b3e-0e9c-41b4-9630-267502a98ffc",
   "metadata": {},
   "outputs": [
    {
     "data": {
      "text/plain": [
       "(45, 'audi')"
      ]
     },
     "execution_count": 17,
     "metadata": {},
     "output_type": "execute_result"
    }
   ],
   "source": [
    "obj1.seating_capacity(45)"
   ]
  },
  {
   "cell_type": "code",
   "execution_count": 18,
   "id": "10d0fcc2-b64a-4b14-91d0-7a41446b7669",
   "metadata": {},
   "outputs": [],
   "source": [
    "## question 3\n",
    "## multiple inheritance is a type of inheritance where the child class is inheriting from multiple parent class\n",
    "## e.g\n",
    "\n",
    "class example:\n",
    "    def class1(self):\n",
    "        return \"this is from 1st parent\"\n",
    "\n",
    "class example1:  \n",
    "    def class2(self):\n",
    "        return \"this is from 2nd parent\"\n",
    "    \n",
    "class final(example, example1):\n",
    "    pass"
   ]
  },
  {
   "cell_type": "code",
   "execution_count": 19,
   "id": "645cbb7b-adf8-472e-b4a0-ee8e064eed75",
   "metadata": {},
   "outputs": [],
   "source": [
    "obj2=final()"
   ]
  },
  {
   "cell_type": "code",
   "execution_count": 20,
   "id": "b0335bef-aef6-4330-a99d-b1b6d223dd99",
   "metadata": {},
   "outputs": [
    {
     "data": {
      "text/plain": [
       "'this is from 1st parent'"
      ]
     },
     "execution_count": 20,
     "metadata": {},
     "output_type": "execute_result"
    }
   ],
   "source": [
    "obj2.class1()"
   ]
  },
  {
   "cell_type": "code",
   "execution_count": 21,
   "id": "b1559508-5938-4099-b181-2160bf325051",
   "metadata": {},
   "outputs": [
    {
     "data": {
      "text/plain": [
       "'this is from 2nd parent'"
      ]
     },
     "execution_count": 21,
     "metadata": {},
     "output_type": "execute_result"
    }
   ],
   "source": [
    "obj2.class2()"
   ]
  },
  {
   "cell_type": "code",
   "execution_count": 22,
   "id": "a6873a96-209d-4eb0-b3e3-993147012b82",
   "metadata": {},
   "outputs": [],
   "source": [
    "## question 4 - Getter: A method that allows you to access an attribute in a given class.\n",
    "## Setter: A method that allows you to set or mutate the value of an attribute in a class."
   ]
  },
  {
   "cell_type": "code",
   "execution_count": 55,
   "id": "fda72cba-6aca-4494-aad5-f2d6a52ff67a",
   "metadata": {},
   "outputs": [],
   "source": [
    "class getset:\n",
    "    def __init__(self,name,id,address,phn):\n",
    "        self.__name=name\n",
    "        self.__id=id\n",
    "        self.__address=address\n",
    "        self.__phn=phn\n",
    "    def setter(self,id):\n",
    "        if id >= 1:\n",
    "            self.__id=id\n",
    "        else:\n",
    "            self.__id=0\n",
    "    def getter(self):\n",
    "        return self.__id"
   ]
  },
  {
   "cell_type": "code",
   "execution_count": 56,
   "id": "fd994cfa-ec64-48b0-93c8-5e931600f8c2",
   "metadata": {},
   "outputs": [],
   "source": [
    "t=getset(\"soniya\",124,\"kolkata\",4567891012)"
   ]
  },
  {
   "cell_type": "code",
   "execution_count": 57,
   "id": "f5dd3c30-d0b8-4f8e-a42f-b7b2b7784c59",
   "metadata": {},
   "outputs": [
    {
     "data": {
      "text/plain": [
       "124"
      ]
     },
     "execution_count": 57,
     "metadata": {},
     "output_type": "execute_result"
    }
   ],
   "source": [
    "t.getter()"
   ]
  },
  {
   "cell_type": "code",
   "execution_count": 58,
   "id": "826453f5-8bcb-4aaf-8fcf-48397e38c419",
   "metadata": {},
   "outputs": [],
   "source": [
    "t.setter(123)"
   ]
  },
  {
   "cell_type": "code",
   "execution_count": 59,
   "id": "93c3ba99-7748-4530-947c-216cc9fac1ce",
   "metadata": {},
   "outputs": [
    {
     "data": {
      "text/plain": [
       "123"
      ]
     },
     "execution_count": 59,
     "metadata": {},
     "output_type": "execute_result"
    }
   ],
   "source": [
    "t.getter()"
   ]
  },
  {
   "cell_type": "code",
   "execution_count": 60,
   "id": "8f0f2639-753b-47bc-b5ac-e3a1e560e4c9",
   "metadata": {},
   "outputs": [],
   "source": [
    "t.setter(-12)"
   ]
  },
  {
   "cell_type": "code",
   "execution_count": 61,
   "id": "090d9649-e5ce-4e7e-b504-a3ee687f1650",
   "metadata": {},
   "outputs": [
    {
     "data": {
      "text/plain": [
       "0"
      ]
     },
     "execution_count": 61,
     "metadata": {},
     "output_type": "execute_result"
    }
   ],
   "source": [
    "t.getter()"
   ]
  },
  {
   "cell_type": "code",
   "execution_count": 63,
   "id": "04c5a59c-7e76-4190-8039-1da5543eebf5",
   "metadata": {},
   "outputs": [],
   "source": [
    "## question 5-Method overriding in Python is when you have two methods with the same name that each perform different tasks. \n",
    "##This is an important feature of inheritance in Python. In method overriding, the child class can change its functions that are defined by its ancestral classes."
   ]
  },
  {
   "cell_type": "code",
   "execution_count": 67,
   "id": "422b86c9-bbfd-40bb-833f-260572d4082d",
   "metadata": {},
   "outputs": [],
   "source": [
    "class animals:\n",
    "    def dog(self):\n",
    "        return \"dog is a very loving pet\"\n",
    "class animals1:\n",
    "    def dog(self):\n",
    "        return \"dogs are very friendly with humans\"\n",
    "    \n",
    "s=animals1()    "
   ]
  },
  {
   "cell_type": "code",
   "execution_count": 68,
   "id": "b13be3af-c603-4bf1-be1c-80737c4b9398",
   "metadata": {},
   "outputs": [
    {
     "data": {
      "text/plain": [
       "'dogs are very friendly with humans'"
      ]
     },
     "execution_count": 68,
     "metadata": {},
     "output_type": "execute_result"
    }
   ],
   "source": [
    "s.dog()"
   ]
  },
  {
   "cell_type": "code",
   "execution_count": 69,
   "id": "fc21233c-e5eb-4155-b9d6-760b991fa02a",
   "metadata": {},
   "outputs": [],
   "source": [
    "t=animals()"
   ]
  },
  {
   "cell_type": "code",
   "execution_count": 70,
   "id": "fd462a71-1234-41f5-b769-3c78afa1204c",
   "metadata": {},
   "outputs": [
    {
     "data": {
      "text/plain": [
       "'dog is a very loving pet'"
      ]
     },
     "execution_count": 70,
     "metadata": {},
     "output_type": "execute_result"
    }
   ],
   "source": [
    "t.dog()"
   ]
  },
  {
   "cell_type": "code",
   "execution_count": null,
   "id": "295150bd-15aa-4677-83d0-34cef099cb2d",
   "metadata": {},
   "outputs": [],
   "source": []
  }
 ],
 "metadata": {
  "kernelspec": {
   "display_name": "Python 3 (ipykernel)",
   "language": "python",
   "name": "python3"
  },
  "language_info": {
   "codemirror_mode": {
    "name": "ipython",
    "version": 3
   },
   "file_extension": ".py",
   "mimetype": "text/x-python",
   "name": "python",
   "nbconvert_exporter": "python",
   "pygments_lexer": "ipython3",
   "version": "3.10.8"
  }
 },
 "nbformat": 4,
 "nbformat_minor": 5
}
