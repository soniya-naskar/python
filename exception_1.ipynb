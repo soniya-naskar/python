{
 "cells": [
  {
   "cell_type": "code",
   "execution_count": null,
   "id": "170cc58d-6930-40da-81f4-c1564dc07e76",
   "metadata": {},
   "outputs": [],
   "source": [
    "## question-1 An exception is an event, which occurs during the execution of a program that disrupts the normal flow of the program's instructions.\n",
    "## syntax errors occurs due to some invalid syntax in the program thus the interpreter could not execute the code\n",
    "## whereas exception occurs when the normal flow of the program gets disrupted and it encounters with a situation where either it have to handle the exception else terminates the program"
   ]
  },
  {
   "cell_type": "code",
   "execution_count": 1,
   "id": "a52d9bc2-dec7-4a19-9d20-899105a04e3a",
   "metadata": {},
   "outputs": [
    {
     "ename": "TypeError",
     "evalue": "can only concatenate str (not \"int\") to str",
     "output_type": "error",
     "traceback": [
      "\u001b[0;31m---------------------------------------------------------------------------\u001b[0m",
      "\u001b[0;31mTypeError\u001b[0m                                 Traceback (most recent call last)",
      "Cell \u001b[0;32mIn[1], line 4\u001b[0m\n\u001b[1;32m      2\u001b[0m a\u001b[38;5;241m=\u001b[39m\u001b[38;5;124m\"\u001b[39m\u001b[38;5;124msoniya\u001b[39m\u001b[38;5;124m\"\u001b[39m\n\u001b[1;32m      3\u001b[0m b\u001b[38;5;241m=\u001b[39m\u001b[38;5;241m5\u001b[39m\n\u001b[0;32m----> 4\u001b[0m \u001b[43ma\u001b[49m\u001b[38;5;241;43m+\u001b[39;49m\u001b[43mb\u001b[49m\n\u001b[1;32m      5\u001b[0m \u001b[38;5;28mprint\u001b[39m(\u001b[38;5;124m\"\u001b[39m\u001b[38;5;124mhello\u001b[39m\u001b[38;5;124m\"\u001b[39m)\n",
      "\u001b[0;31mTypeError\u001b[0m: can only concatenate str (not \"int\") to str"
     ]
    }
   ],
   "source": [
    "## question-2 when exceptions are not handled it will stop the flow of the program and will terminate execution of the code after it. e.g-\n",
    "a=\"soniya\"\n",
    "b=5\n",
    "a+b\n",
    "print(\"hello\") ## the line past the exception had not been executed so it abruptly terminates the program after execution"
   ]
  },
  {
   "cell_type": "code",
   "execution_count": 2,
   "id": "f0c5e6b5-ec7a-4de4-8105-c6e8a479a4b2",
   "metadata": {},
   "outputs": [
    {
     "name": "stdout",
     "output_type": "stream",
     "text": [
      "can only concatenate str (not \"int\") to str\n"
     ]
    }
   ],
   "source": [
    "## question-3. The try and except block in Python is used to catch and handle exceptions.e.g-\n",
    "a=\"soniya\"\n",
    "b=5\n",
    "try:\n",
    "    a+b\n",
    "except TypeError as e:\n",
    "    print(e)"
   ]
  },
  {
   "cell_type": "code",
   "execution_count": 3,
   "id": "278e1a41-ce9d-4eeb-8bd2-8dc37e57347f",
   "metadata": {},
   "outputs": [
    {
     "name": "stdout",
     "output_type": "stream",
     "text": [
      "Yeah ! Your answer is : 1\n"
     ]
    }
   ],
   "source": [
    "## question-4.a)\n",
    "def divide(x, y):\n",
    "    try:\n",
    "        result = x // y\n",
    "    except ZeroDivisionError:\n",
    "        print(\"Sorry ! You are dividing by zero \")\n",
    "    else:\n",
    "        print(\"Yeah ! Your answer is :\", result)\n",
    "   \n",
    "divide(3, 2)\n",
    "\n",
    "    "
   ]
  },
  {
   "cell_type": "code",
   "execution_count": 4,
   "id": "c5ceb6c0-7a83-42e9-af94-5b4b2232a605",
   "metadata": {},
   "outputs": [
    {
     "name": "stdout",
     "output_type": "stream",
     "text": [
      "Sorry ! You are dividing by zero \n"
     ]
    }
   ],
   "source": [
    "divide(5,0)"
   ]
  },
  {
   "cell_type": "code",
   "execution_count": 5,
   "id": "72662c9d-58b6-4c10-abf0-f171f5d1fba6",
   "metadata": {},
   "outputs": [
    {
     "name": "stdout",
     "output_type": "stream",
     "text": [
      "can only concatenate str (not \"int\") to str\n",
      "function performed\n"
     ]
    }
   ],
   "source": [
    "## 4.b)\n",
    "try:\n",
    "    \"soniya\" + 5\n",
    "except TypeError as e:\n",
    "    print(e)\n",
    "finally:\n",
    "    print(\"function performed\")\n",
    "    "
   ]
  },
  {
   "cell_type": "code",
   "execution_count": 7,
   "id": "e031d24f-d0ea-4622-9eff-b99234f31fab",
   "metadata": {},
   "outputs": [
    {
     "ename": "ValueError",
     "evalue": "string can't be changed",
     "output_type": "error",
     "traceback": [
      "\u001b[0;31m---------------------------------------------------------------------------\u001b[0m",
      "\u001b[0;31mValueError\u001b[0m                                Traceback (most recent call last)",
      "Cell \u001b[0;32mIn[7], line 4\u001b[0m\n\u001b[1;32m      3\u001b[0m \u001b[38;5;28;01mtry\u001b[39;00m:\n\u001b[0;32m----> 4\u001b[0m     a\u001b[38;5;241m=\u001b[39m\u001b[38;5;28;43mint\u001b[39;49m\u001b[43m(\u001b[49m\u001b[43ms\u001b[49m\u001b[43m)\u001b[49m\n\u001b[1;32m      5\u001b[0m \u001b[38;5;28;01mexcept\u001b[39;00m \u001b[38;5;167;01mValueError\u001b[39;00m:\n",
      "\u001b[0;31mValueError\u001b[0m: invalid literal for int() with base 10: 'boy'",
      "\nDuring handling of the above exception, another exception occurred:\n",
      "\u001b[0;31mValueError\u001b[0m                                Traceback (most recent call last)",
      "Cell \u001b[0;32mIn[7], line 6\u001b[0m\n\u001b[1;32m      4\u001b[0m     a\u001b[38;5;241m=\u001b[39m\u001b[38;5;28mint\u001b[39m(s)\n\u001b[1;32m      5\u001b[0m \u001b[38;5;28;01mexcept\u001b[39;00m \u001b[38;5;167;01mValueError\u001b[39;00m:\n\u001b[0;32m----> 6\u001b[0m     \u001b[38;5;28;01mraise\u001b[39;00m \u001b[38;5;167;01mValueError\u001b[39;00m(\u001b[38;5;124m\"\u001b[39m\u001b[38;5;124mstring can\u001b[39m\u001b[38;5;124m'\u001b[39m\u001b[38;5;124mt be changed\u001b[39m\u001b[38;5;124m\"\u001b[39m)\n",
      "\u001b[0;31mValueError\u001b[0m: string can't be changed"
     ]
    }
   ],
   "source": [
    "## 4.c)\n",
    "s=\"boy\"\n",
    "try:\n",
    "    a=int(s)\n",
    "except ValueError as e:\n",
    "    raise ValueError(\"string can't be changed\")"
   ]
  },
  {
   "cell_type": "code",
   "execution_count": null,
   "id": "2ca0bd21-42a4-407b-8aee-379c913292b4",
   "metadata": {},
   "outputs": [],
   "source": [
    "## question 5. In simple words, we can say that a User-Defined Exception or custom exception is creating your own exception class and throwing that exception using the 'throw' keyword. "
   ]
  },
  {
   "cell_type": "code",
   "execution_count": 21,
   "id": "063df403-0cfd-47f8-9bb2-338d6f77d628",
   "metadata": {},
   "outputs": [
    {
     "name": "stdin",
     "output_type": "stream",
     "text": [
      " -65\n"
     ]
    },
    {
     "name": "stdout",
     "output_type": "stream",
     "text": [
      "doesn't exist\n"
     ]
    }
   ],
   "source": [
    "## 5.we need custom handling to customize the exception according to user need \n",
    "class example(Exception):\n",
    "    def __init__(self,age):\n",
    "        self.age=age\n",
    "\n",
    "try:\n",
    "    \n",
    "    age=int(input())\n",
    "    if age < 0:\n",
    "        \n",
    "        print(\"doesn't exist\")\n",
    "    elif age > 100:\n",
    "        print(\"invalid\")\n",
    "    else:\n",
    "        raise example(age)\n",
    "        \n",
    "        \n",
    "except example as e:\n",
    "    print(e)\n",
    "    \n",
    "\n",
    "        "
   ]
  },
  {
   "cell_type": "code",
   "execution_count": 31,
   "id": "814250e8-8ddd-4752-865e-f3ef529f4875",
   "metadata": {},
   "outputs": [
    {
     "name": "stdout",
     "output_type": "stream",
     "text": [
      "Message: Something is fishy\n"
     ]
    }
   ],
   "source": [
    "## question 6.\n",
    "class YourException(Exception):\n",
    "     def __init__(self, message):\n",
    "        self.message = message\n",
    "\n",
    "try:\n",
    "    raise YourException(\"Something is fishy\")\n",
    "\n",
    "except YourException as err:\n",
    "  \n",
    "  print(\"Message:\", err.message)"
   ]
  },
  {
   "cell_type": "code",
   "execution_count": null,
   "id": "18edcf92-6c32-40a9-bdba-45de64e7dbc4",
   "metadata": {},
   "outputs": [],
   "source": []
  }
 ],
 "metadata": {
  "kernelspec": {
   "display_name": "Python 3 (ipykernel)",
   "language": "python",
   "name": "python3"
  },
  "language_info": {
   "codemirror_mode": {
    "name": "ipython",
    "version": 3
   },
   "file_extension": ".py",
   "mimetype": "text/x-python",
   "name": "python",
   "nbconvert_exporter": "python",
   "pygments_lexer": "ipython3",
   "version": "3.10.8"
  }
 },
 "nbformat": 4,
 "nbformat_minor": 5
}
